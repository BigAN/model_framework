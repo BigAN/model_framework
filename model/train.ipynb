from __future__ import unicode_literals
from sklearn import cross_validation
import sklearn
import codecs
import utils.CONST as const
from sklearn import cross_validation
from sklearn.naive_bayes import GaussianNB,MultinomialNB,BernoulliNB
from sklearn import metrics
import numpy as np
import random
import itertools