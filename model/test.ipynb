{
 "cells": [
  {
   "cell_type": "code",
   "execution_count": 1,
   "metadata": {},
   "outputs": [
    {
     "name": "stdout",
     "output_type": "stream",
     "text": [
      "\u001b[1m\u001b[36mApplications\u001b[m\u001b[m/         \u001b[1m\u001b[36mDocuments\u001b[m\u001b[m/            \u001b[1m\u001b[36mLibrary\u001b[m\u001b[m/              \u001b[1m\u001b[36mMusic\u001b[m\u001b[m/                \u001b[1m\u001b[36mPublic\u001b[m\u001b[m/               \u001b[1m\u001b[36mbin\u001b[m\u001b[m/                  \u001b[1m\u001b[36mdata\u001b[m\u001b[m/                 week_uuid_bangding\r\n\u001b[1m\u001b[36mDesktop\u001b[m\u001b[m/              \u001b[1m\u001b[36mDownloads\u001b[m\u001b[m/            \u001b[1m\u001b[36mMovies\u001b[m\u001b[m/               \u001b[1m\u001b[36mPictures\u001b[m\u001b[m/             \u001b[1m\u001b[36mPycharmProjects\u001b[m\u001b[m/      da                    week_bangding_jiedan  \u001b[1m\u001b[36mwork\u001b[m\u001b[m/\r\n"
     ]
    }
   ],
   "source": [
    "ls"
   ]
  },
  {
   "cell_type": "code",
   "execution_count": null,
   "metadata": {},
   "outputs": [],
   "source": [
    ""
   ]
  }
 ],
 "metadata": {},
 "nbformat": 4,
 "nbformat_minor": 0
}